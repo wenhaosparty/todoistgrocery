{
 "cells": [
  {
   "cell_type": "code",
   "execution_count": 3,
   "metadata": {
    "collapsed": false
   },
   "outputs": [],
   "source": [
    "# preamble\n",
    "import pandas as pd"
   ]
  },
  {
   "cell_type": "code",
   "execution_count": 16,
   "metadata": {
    "collapsed": false
   },
   "outputs": [],
   "source": [
    "df = pd.read_clipboard()"
   ]
  },
  {
   "cell_type": "code",
   "execution_count": 18,
   "metadata": {
    "collapsed": false
   },
   "outputs": [
    {
     "data": {
      "text/html": [
       "<div>\n",
       "<table border=\"1\" class=\"dataframe\">\n",
       "  <thead>\n",
       "    <tr style=\"text-align: right;\">\n",
       "      <th></th>\n",
       "      <th>Item</th>\n",
       "      <th>Store</th>\n",
       "      <th>Price</th>\n",
       "      <th>Per Unit</th>\n",
       "    </tr>\n",
       "  </thead>\n",
       "  <tbody>\n",
       "    <tr>\n",
       "      <th>0</th>\n",
       "      <td>Raisin Bran</td>\n",
       "      <td>Aldi</td>\n",
       "      <td>$1.79</td>\n",
       "      <td>Box</td>\n",
       "    </tr>\n",
       "    <tr>\n",
       "      <th>1</th>\n",
       "      <td>FreshGround Turkey</td>\n",
       "      <td>Aldi</td>\n",
       "      <td>$3.29</td>\n",
       "      <td>NaN</td>\n",
       "    </tr>\n",
       "    <tr>\n",
       "      <th>2</th>\n",
       "      <td>Chicken Wings</td>\n",
       "      <td>Aldi</td>\n",
       "      <td>$5.45</td>\n",
       "      <td>Box</td>\n",
       "    </tr>\n",
       "    <tr>\n",
       "      <th>3</th>\n",
       "      <td>Chicken Thighs</td>\n",
       "      <td>Aldi</td>\n",
       "      <td>$2.68</td>\n",
       "      <td>Box</td>\n",
       "    </tr>\n",
       "    <tr>\n",
       "      <th>4</th>\n",
       "      <td>Bean Sprouts, 豆芽</td>\n",
       "      <td>Joe Randazzo</td>\n",
       "      <td>$0.59</td>\n",
       "      <td>lb</td>\n",
       "    </tr>\n",
       "    <tr>\n",
       "      <th>5</th>\n",
       "      <td>Spinach bunch</td>\n",
       "      <td>Joe Randazzo</td>\n",
       "      <td>$1.19</td>\n",
       "      <td>bunch</td>\n",
       "    </tr>\n",
       "    <tr>\n",
       "      <th>6</th>\n",
       "      <td>Garlic</td>\n",
       "      <td>Joe Randazzo</td>\n",
       "      <td>$0.49</td>\n",
       "      <td>lb</td>\n",
       "    </tr>\n",
       "    <tr>\n",
       "      <th>7</th>\n",
       "      <td>Pear Yali</td>\n",
       "      <td>Joe Randazzo</td>\n",
       "      <td>$0.30</td>\n",
       "      <td>each</td>\n",
       "    </tr>\n",
       "    <tr>\n",
       "      <th>8</th>\n",
       "      <td>Corn package</td>\n",
       "      <td>Joe Randazzo</td>\n",
       "      <td>$0.79</td>\n",
       "      <td>lb</td>\n",
       "    </tr>\n",
       "    <tr>\n",
       "      <th>9</th>\n",
       "      <td>Carrots</td>\n",
       "      <td>Joe Randazzo</td>\n",
       "      <td>$0.47</td>\n",
       "      <td>lb</td>\n",
       "    </tr>\n",
       "    <tr>\n",
       "      <th>10</th>\n",
       "      <td>Grapes Red Seedless</td>\n",
       "      <td>Joe Randazzo</td>\n",
       "      <td>$2.02</td>\n",
       "      <td>lb</td>\n",
       "    </tr>\n",
       "    <tr>\n",
       "      <th>11</th>\n",
       "      <td>Beans Chinese Long</td>\n",
       "      <td>Joe Randazzo</td>\n",
       "      <td>$2.95</td>\n",
       "      <td>bunch</td>\n",
       "    </tr>\n",
       "    <tr>\n",
       "      <th>12</th>\n",
       "      <td>Carrot mini</td>\n",
       "      <td>Joe Randazzo</td>\n",
       "      <td>$0.99</td>\n",
       "      <td>NaN</td>\n",
       "    </tr>\n",
       "    <tr>\n",
       "      <th>13</th>\n",
       "      <td>Oranges Cal Nav</td>\n",
       "      <td>Joe Randazzo</td>\n",
       "      <td>$2.69</td>\n",
       "      <td>bag</td>\n",
       "    </tr>\n",
       "    <tr>\n",
       "      <th>14</th>\n",
       "      <td>火锅羊肉</td>\n",
       "      <td>Way 1</td>\n",
       "      <td>$6.23</td>\n",
       "      <td>bag</td>\n",
       "    </tr>\n",
       "    <tr>\n",
       "      <th>15</th>\n",
       "      <td>A choy</td>\n",
       "      <td>Way 1</td>\n",
       "      <td>$1.99</td>\n",
       "      <td>lb</td>\n",
       "    </tr>\n",
       "    <tr>\n",
       "      <th>16</th>\n",
       "      <td>红薯粉</td>\n",
       "      <td>Way 1</td>\n",
       "      <td>$2.29</td>\n",
       "      <td>bag</td>\n",
       "    </tr>\n",
       "    <tr>\n",
       "      <th>17</th>\n",
       "      <td>火锅牛肉片</td>\n",
       "      <td>Way 1</td>\n",
       "      <td>$9.23</td>\n",
       "      <td>bag</td>\n",
       "    </tr>\n",
       "    <tr>\n",
       "      <th>18</th>\n",
       "      <td>花样鱼丸</td>\n",
       "      <td>Way 1</td>\n",
       "      <td>$5.89</td>\n",
       "      <td>lb</td>\n",
       "    </tr>\n",
       "    <tr>\n",
       "      <th>19</th>\n",
       "      <td>郫县豆瓣，袋装</td>\n",
       "      <td>Way 1</td>\n",
       "      <td>$2.49</td>\n",
       "      <td>bag</td>\n",
       "    </tr>\n",
       "  </tbody>\n",
       "</table>\n",
       "</div>"
      ],
      "text/plain": [
       "                   Item         Store  Price Per Unit\n",
       "0           Raisin Bran          Aldi  $1.79      Box\n",
       "1    FreshGround Turkey          Aldi  $3.29      NaN\n",
       "2         Chicken Wings          Aldi  $5.45      Box\n",
       "3        Chicken Thighs          Aldi  $2.68      Box\n",
       "4      Bean Sprouts, 豆芽  Joe Randazzo  $0.59       lb\n",
       "5         Spinach bunch  Joe Randazzo  $1.19    bunch\n",
       "6                Garlic  Joe Randazzo  $0.49       lb\n",
       "7             Pear Yali  Joe Randazzo  $0.30     each\n",
       "8          Corn package  Joe Randazzo  $0.79       lb\n",
       "9               Carrots  Joe Randazzo  $0.47       lb\n",
       "10  Grapes Red Seedless  Joe Randazzo  $2.02       lb\n",
       "11   Beans Chinese Long  Joe Randazzo  $2.95    bunch\n",
       "12          Carrot mini  Joe Randazzo  $0.99      NaN\n",
       "13      Oranges Cal Nav  Joe Randazzo  $2.69      bag\n",
       "14                火锅羊肉          Way 1  $6.23      bag\n",
       "15               A choy         Way 1  $1.99       lb\n",
       "16                  红薯粉         Way 1  $2.29      bag\n",
       "17                火锅牛肉片         Way 1  $9.23      bag\n",
       "18                 花样鱼丸         Way 1  $5.89       lb\n",
       "19              郫县豆瓣，袋装         Way 1  $2.49      bag"
      ]
     },
     "execution_count": 18,
     "metadata": {},
     "output_type": "execute_result"
    }
   ],
   "source": [
    "df"
   ]
  },
  {
   "cell_type": "code",
   "execution_count": 23,
   "metadata": {
    "collapsed": true
   },
   "outputs": [],
   "source": [
    "dfex = pd.DataFrame([], columns=['TYPE','CONTENT','PRIORITY','INDENT','AUTHOR', 'RESPONSIBLE', 'DATE', 'DATE_LANG', 'TIMEZONE'])"
   ]
  },
  {
   "cell_type": "code",
   "execution_count": 24,
   "metadata": {
    "collapsed": false
   },
   "outputs": [
    {
     "data": {
      "text/html": [
       "<div>\n",
       "<table border=\"1\" class=\"dataframe\">\n",
       "  <thead>\n",
       "    <tr style=\"text-align: right;\">\n",
       "      <th></th>\n",
       "      <th>TYPE</th>\n",
       "      <th>CONTENT</th>\n",
       "      <th>PRIORITY</th>\n",
       "      <th>INDENT</th>\n",
       "      <th>AUTHOR</th>\n",
       "      <th>RESPONSIBLE</th>\n",
       "      <th>DATE</th>\n",
       "      <th>DATE_LANG</th>\n",
       "      <th>TIMEZONE</th>\n",
       "    </tr>\n",
       "  </thead>\n",
       "  <tbody>\n",
       "  </tbody>\n",
       "</table>\n",
       "</div>"
      ],
      "text/plain": [
       "Empty DataFrame\n",
       "Columns: [TYPE, CONTENT, PRIORITY, INDENT, AUTHOR, RESPONSIBLE, DATE, DATE_LANG, TIMEZONE]\n",
       "Index: []"
      ]
     },
     "execution_count": 24,
     "metadata": {},
     "output_type": "execute_result"
    }
   ],
   "source": [
    "dfex"
   ]
  },
  {
   "cell_type": "code",
   "execution_count": 34,
   "metadata": {
    "collapsed": false
   },
   "outputs": [],
   "source": [
    "# obtain the stores\n",
    "stores = df['Store'].value_counts().index.values"
   ]
  },
  {
   "cell_type": "code",
   "execution_count": 36,
   "metadata": {
    "collapsed": false
   },
   "outputs": [
    {
     "data": {
      "text/plain": [
       "array(['Joe Randazzo', 'Way 1', 'Aldi'], dtype=object)"
      ]
     },
     "execution_count": 36,
     "metadata": {},
     "output_type": "execute_result"
    }
   ],
   "source": [
    "for store in stores:\n",
    "    dfex"
   ]
  },
  {
   "cell_type": "code",
   "execution_count": null,
   "metadata": {
    "collapsed": true
   },
   "outputs": [],
   "source": []
  }
 ],
 "metadata": {
  "kernelspec": {
   "display_name": "Python 3",
   "language": "python",
   "name": "python3"
  },
  "language_info": {
   "codemirror_mode": {
    "name": "ipython",
    "version": 3
   },
   "file_extension": ".py",
   "mimetype": "text/x-python",
   "name": "python",
   "nbconvert_exporter": "python",
   "pygments_lexer": "ipython3",
   "version": "3.4.4"
  }
 },
 "nbformat": 4,
 "nbformat_minor": 1
}
