{
 "cells": [
  {
   "cell_type": "code",
   "execution_count": 1,
   "metadata": {
    "collapsed": false
   },
   "outputs": [],
   "source": [
    "# preamble\n",
    "import pandas as pd\n",
    "import numpy as np"
   ]
  },
  {
   "cell_type": "code",
   "execution_count": 6,
   "metadata": {
    "collapsed": false
   },
   "outputs": [],
   "source": [
    "# issue: unable to read directly from online spreadsheet\n",
    "\n",
    "# copy from google drive\n",
    "df = pd.read_clipboard()"
   ]
  },
  {
   "cell_type": "code",
   "execution_count": 16,
   "metadata": {
    "collapsed": false
   },
   "outputs": [
    {
     "data": {
      "text/html": [
       "<div>\n",
       "<table border=\"1\" class=\"dataframe\">\n",
       "  <thead>\n",
       "    <tr style=\"text-align: right;\">\n",
       "      <th></th>\n",
       "      <th>Item</th>\n",
       "      <th>Store</th>\n",
       "      <th>Price</th>\n",
       "      <th>Per Unit</th>\n",
       "    </tr>\n",
       "  </thead>\n",
       "  <tbody>\n",
       "    <tr>\n",
       "      <th>0</th>\n",
       "      <td>Raisin Bran</td>\n",
       "      <td>Aldi</td>\n",
       "      <td>$1.79</td>\n",
       "      <td>Box</td>\n",
       "    </tr>\n",
       "    <tr>\n",
       "      <th>1</th>\n",
       "      <td>FreshGround Turkey</td>\n",
       "      <td>Aldi</td>\n",
       "      <td>$3.29</td>\n",
       "      <td>NaN</td>\n",
       "    </tr>\n",
       "    <tr>\n",
       "      <th>2</th>\n",
       "      <td>Chicken Wings</td>\n",
       "      <td>Aldi</td>\n",
       "      <td>$5.45</td>\n",
       "      <td>Box</td>\n",
       "    </tr>\n",
       "    <tr>\n",
       "      <th>3</th>\n",
       "      <td>Chicken Thighs</td>\n",
       "      <td>Aldi</td>\n",
       "      <td>$2.68</td>\n",
       "      <td>Box</td>\n",
       "    </tr>\n",
       "    <tr>\n",
       "      <th>4</th>\n",
       "      <td>Bean Sprouts, 豆芽</td>\n",
       "      <td>Joe Randazzo</td>\n",
       "      <td>$0.59</td>\n",
       "      <td>lb</td>\n",
       "    </tr>\n",
       "    <tr>\n",
       "      <th>5</th>\n",
       "      <td>Spinach bunch</td>\n",
       "      <td>Joe Randazzo</td>\n",
       "      <td>$1.19</td>\n",
       "      <td>bunch</td>\n",
       "    </tr>\n",
       "    <tr>\n",
       "      <th>6</th>\n",
       "      <td>Garlic</td>\n",
       "      <td>Joe Randazzo</td>\n",
       "      <td>$0.49</td>\n",
       "      <td>lb</td>\n",
       "    </tr>\n",
       "    <tr>\n",
       "      <th>7</th>\n",
       "      <td>Pear Yali</td>\n",
       "      <td>Joe Randazzo</td>\n",
       "      <td>$0.30</td>\n",
       "      <td>each</td>\n",
       "    </tr>\n",
       "    <tr>\n",
       "      <th>8</th>\n",
       "      <td>Corn package</td>\n",
       "      <td>Joe Randazzo</td>\n",
       "      <td>$0.79</td>\n",
       "      <td>lb</td>\n",
       "    </tr>\n",
       "    <tr>\n",
       "      <th>9</th>\n",
       "      <td>Carrots</td>\n",
       "      <td>Joe Randazzo</td>\n",
       "      <td>$0.47</td>\n",
       "      <td>lb</td>\n",
       "    </tr>\n",
       "    <tr>\n",
       "      <th>10</th>\n",
       "      <td>Grapes Red Seedless</td>\n",
       "      <td>Joe Randazzo</td>\n",
       "      <td>$2.02</td>\n",
       "      <td>lb</td>\n",
       "    </tr>\n",
       "    <tr>\n",
       "      <th>11</th>\n",
       "      <td>Beans Chinese Long</td>\n",
       "      <td>Joe Randazzo</td>\n",
       "      <td>$2.95</td>\n",
       "      <td>bunch</td>\n",
       "    </tr>\n",
       "    <tr>\n",
       "      <th>12</th>\n",
       "      <td>Carrot mini</td>\n",
       "      <td>Joe Randazzo</td>\n",
       "      <td>$0.99</td>\n",
       "      <td>NaN</td>\n",
       "    </tr>\n",
       "    <tr>\n",
       "      <th>13</th>\n",
       "      <td>Oranges Cal Nav</td>\n",
       "      <td>Joe Randazzo</td>\n",
       "      <td>$2.69</td>\n",
       "      <td>bag</td>\n",
       "    </tr>\n",
       "    <tr>\n",
       "      <th>14</th>\n",
       "      <td>火锅羊肉</td>\n",
       "      <td>Way 1</td>\n",
       "      <td>$6.23</td>\n",
       "      <td>bag</td>\n",
       "    </tr>\n",
       "    <tr>\n",
       "      <th>15</th>\n",
       "      <td>A choy</td>\n",
       "      <td>Way 1</td>\n",
       "      <td>$1.99</td>\n",
       "      <td>lb</td>\n",
       "    </tr>\n",
       "    <tr>\n",
       "      <th>16</th>\n",
       "      <td>红薯粉</td>\n",
       "      <td>Way 1</td>\n",
       "      <td>$2.29</td>\n",
       "      <td>bag</td>\n",
       "    </tr>\n",
       "    <tr>\n",
       "      <th>17</th>\n",
       "      <td>火锅牛肉片</td>\n",
       "      <td>Way 1</td>\n",
       "      <td>$9.23</td>\n",
       "      <td>bag</td>\n",
       "    </tr>\n",
       "    <tr>\n",
       "      <th>18</th>\n",
       "      <td>花样鱼丸</td>\n",
       "      <td>Way 1</td>\n",
       "      <td>$5.89</td>\n",
       "      <td>lb</td>\n",
       "    </tr>\n",
       "    <tr>\n",
       "      <th>19</th>\n",
       "      <td>郫县豆瓣，袋装</td>\n",
       "      <td>Way 1</td>\n",
       "      <td>$2.49</td>\n",
       "      <td>bag</td>\n",
       "    </tr>\n",
       "  </tbody>\n",
       "</table>\n",
       "</div>"
      ],
      "text/plain": [
       "                   Item         Store  Price Per Unit\n",
       "0           Raisin Bran          Aldi  $1.79      Box\n",
       "1    FreshGround Turkey          Aldi  $3.29      NaN\n",
       "2         Chicken Wings          Aldi  $5.45      Box\n",
       "3        Chicken Thighs          Aldi  $2.68      Box\n",
       "4      Bean Sprouts, 豆芽  Joe Randazzo  $0.59       lb\n",
       "5         Spinach bunch  Joe Randazzo  $1.19    bunch\n",
       "6                Garlic  Joe Randazzo  $0.49       lb\n",
       "7             Pear Yali  Joe Randazzo  $0.30     each\n",
       "8          Corn package  Joe Randazzo  $0.79       lb\n",
       "9               Carrots  Joe Randazzo  $0.47       lb\n",
       "10  Grapes Red Seedless  Joe Randazzo  $2.02       lb\n",
       "11   Beans Chinese Long  Joe Randazzo  $2.95    bunch\n",
       "12          Carrot mini  Joe Randazzo  $0.99      NaN\n",
       "13      Oranges Cal Nav  Joe Randazzo  $2.69      bag\n",
       "14                火锅羊肉          Way 1  $6.23      bag\n",
       "15               A choy         Way 1  $1.99       lb\n",
       "16                  红薯粉         Way 1  $2.29      bag\n",
       "17                火锅牛肉片         Way 1  $9.23      bag\n",
       "18                 花样鱼丸         Way 1  $5.89       lb\n",
       "19              郫县豆瓣，袋装         Way 1  $2.49      bag"
      ]
     },
     "execution_count": 16,
     "metadata": {},
     "output_type": "execute_result"
    }
   ],
   "source": [
    "df"
   ]
  },
  {
   "cell_type": "code",
   "execution_count": 8,
   "metadata": {
    "collapsed": false
   },
   "outputs": [],
   "source": [
    "cols = ['TYPE','CONTENT','PRIORITY','INDENT','AUTHOR', 'RESPONSIBLE', 'DATE', 'DATE_LANG', 'TIMEZONE']\n",
    "row_template = [['task', 'content', 4, 1, 'Hao (1557301)', np.nan, np.nan, 'en', 'America/Detroit']]\n",
    "\n",
    "df_csv = pd.DataFrame(columns=cols)"
   ]
  },
  {
   "cell_type": "code",
   "execution_count": 9,
   "metadata": {
    "collapsed": false
   },
   "outputs": [],
   "source": [
    "# obtain the stores\n",
    "stores = df['Store'].value_counts().index.values"
   ]
  },
  {
   "cell_type": "code",
   "execution_count": 42,
   "metadata": {
    "collapsed": true
   },
   "outputs": [],
   "source": [
    "df_cvs = pd.DataFrame()\n",
    "for store in stores:\n",
    "    # add store task\n",
    "    df_store_task = pd.DataFrame(row_template, columns=cols)\n",
    "    df_store_task.set_value(0,'CONTENT', store)\n",
    "    df_csv = df_csv.append(df_store_task, ignore_index=True)\n",
    "    \n",
    "    # add store contents\n",
    "    content_temp = df[df['Store']==store]['Item']\n",
    "    df_item_tasks = content_temp.to_frame(name='CONTENT')\n",
    "    df_item_tasks['INDENT'] = 2\n",
    "    df_csv = df_csv.append(df_item_tasks, ignore_index=True)\n",
    "    df_csv.fillna(method='ffill', inplace=True)\n",
    "    \n",
    "df_csv = df_csv[cols]"
   ]
  },
  {
   "cell_type": "code",
   "execution_count": 45,
   "metadata": {
    "collapsed": true
   },
   "outputs": [],
   "source": [
    "# paste this to google, then save as *.csv\n",
    "\n",
    "# issue: unable to save Chinese characters\n",
    "\n",
    "df_csv.to_clipboard(r'C:\\Users\\hwen5\\Desktop\\grocery.csv', index=False)"
   ]
  },
  {
   "cell_type": "code",
   "execution_count": null,
   "metadata": {
    "collapsed": true
   },
   "outputs": [],
   "source": [
    "# final issue: publish to todoist directly"
   ]
  }
 ],
 "metadata": {
  "kernelspec": {
   "display_name": "Python 3",
   "language": "python",
   "name": "python3"
  },
  "language_info": {
   "codemirror_mode": {
    "name": "ipython",
    "version": 3
   },
   "file_extension": ".py",
   "mimetype": "text/x-python",
   "name": "python",
   "nbconvert_exporter": "python",
   "pygments_lexer": "ipython3",
   "version": "3.4.4"
  }
 },
 "nbformat": 4,
 "nbformat_minor": 1
}
